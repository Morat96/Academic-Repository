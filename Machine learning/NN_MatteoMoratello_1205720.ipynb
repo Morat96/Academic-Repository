{
 "cells": [
  {
   "cell_type": "markdown",
   "metadata": {},
   "source": [
    "# Neural Networks for Classification\n",
    "\n",
    "In this notebook we are going to explore the use of Neural Networks for image classification. We are going to use a dataset of small images of clothes and accessories, the Fashion MNIST. You can find more information regarding the dataset here: https://pravarmahajan.github.io/fashion/\n",
    "\n",
    "Each instance in the dataset consist of an image, in a format similar to the digit images you have seen in the previous homework, and a label. The labels correspond to the type of clothing, as follows:\n",
    "\n",
    "| Label | Description |\n",
    "| --- | --- |\n",
    "| 0 | T-shirt/top |\n",
    "| 1 | Trouser |\n",
    "| 2 | Pullover |\n",
    "| 3 | Dress |\n",
    "| 4 | Coat |\n",
    "| 5 | Sandal |\n",
    "| 6 | Shirt |\n",
    "| 7 | Sneaker |\n",
    "| 8 | Bag |\n",
    "| 9 | Ankle boot |"
   ]
  },
  {
   "cell_type": "markdown",
   "metadata": {},
   "source": [
    "Let's first load the required packages."
   ]
  },
  {
   "cell_type": "code",
   "execution_count": 14,
   "metadata": {},
   "outputs": [],
   "source": [
    "#load the required packages\n",
    "\n",
    "%matplotlib inline  \n",
    "\n",
    "import numpy as np\n",
    "import scipy as sp\n",
    "import matplotlib.pyplot as plt\n",
    "\n",
    "import sklearn\n",
    "from sklearn.neural_network import MLPClassifier\n",
    "from sklearn.model_selection import GridSearchCV\n",
    "import pandas as pd"
   ]
  },
  {
   "cell_type": "markdown",
   "metadata": {},
   "source": [
    "The following is a function to load the data, that we are going to use later in the notebook."
   ]
  },
  {
   "cell_type": "code",
   "execution_count": 15,
   "metadata": {},
   "outputs": [],
   "source": [
    "# helper function to load Fashion MNIST dataset from disk\n",
    "def load_fashion_mnist(path, kind='train'):\n",
    "    import os\n",
    "    import gzip\n",
    "    import numpy as np\n",
    "    labels_path = os.path.join(path, '%s-labels-idx1-ubyte.gz' % kind)\n",
    "    images_path = os.path.join(path, '%s-images-idx3-ubyte.gz' % kind)\n",
    "    with gzip.open(labels_path, 'rb') as lbpath:\n",
    "        labels = np.frombuffer(lbpath.read(), dtype=np.uint8,offset=8)\n",
    "    with gzip.open(images_path, 'rb') as imgpath:\n",
    "        images = np.frombuffer(imgpath.read(), dtype=np.uint8,offset=16).reshape(len(labels), 784)\n",
    "    return images, labels"
   ]
  },
  {
   "cell_type": "markdown",
   "metadata": {},
   "source": [
    "## TO DO 0\n",
    "Place your ID (\"numero di matricola\") that will be used as seed for random generator. Change the ID number in case you observe unexpected behaviours and want to test if this is due to randomization (e.g., train/test split). If you change the ID number explain why you have change it."
   ]
  },
  {
   "cell_type": "code",
   "execution_count": 16,
   "metadata": {},
   "outputs": [],
   "source": [
    "ID = 1205720\n",
    "np.random.seed(ID)"
   ]
  },
  {
   "cell_type": "markdown",
   "metadata": {},
   "source": [
    "Now we load the dataset using the function above."
   ]
  },
  {
   "cell_type": "code",
   "execution_count": 17,
   "metadata": {},
   "outputs": [],
   "source": [
    "#load the fashion MNIST dataset and normalize the features so that each value is in [0,1]\n",
    "X, y = load_fashion_mnist(\"data\")\n",
    "# rescale the data\n",
    "X = X / 255.0"
   ]
  },
  {
   "cell_type": "markdown",
   "metadata": {},
   "source": [
    "Now we split the data into training and test. Make sure that each label is present at least 10 times\n",
    "in the training set."
   ]
  },
  {
   "cell_type": "code",
   "execution_count": 18,
   "metadata": {},
   "outputs": [
    {
     "name": "stdout",
     "output_type": "stream",
     "text": [
      "Labels and frequencies in training dataset: \n",
      "\n",
      "Labels:      [0 1 2 3 4 5 6 7 8 9]\n",
      "Frequencies: [45 51 62 50 45 46 56 59 43 43]\n"
     ]
    }
   ],
   "source": [
    "#random permute the data and split into training and test taking the first 500\n",
    "#data samples as training and the rests as test\n",
    "permutation = np.random.permutation(X.shape[0])\n",
    "\n",
    "X = X[permutation]\n",
    "y = y[permutation]\n",
    "\n",
    "m_training = 500\n",
    "\n",
    "X_train, X_test = X[:m_training], X[m_training:]\n",
    "y_train, y_test = y[:m_training], y[m_training:]\n",
    "\n",
    "print(\"Labels and frequencies in training dataset: \\n\")\n",
    "lab,counts = np.unique(y_train, return_counts = True)\n",
    "check = True\n",
    "while check==True:\n",
    "    if(np.any(counts < 10)): \n",
    "        permutation = np.random.permutation(X.shape[0])\n",
    "        X = X[permutation]\n",
    "        y = y[permutation]\n",
    "        X_train, X_test = X[:m_training], X[m_training:]\n",
    "        y_train, y_test = y[:m_training], y[m_training:]\n",
    "        lab,counts = np.unique(y_train, return_counts = True)\n",
    "        check = np.any(counts < 10)\n",
    "    else:\n",
    "        check = False\n",
    "print(\"Labels:     \",lab)\n",
    "print(\"Frequencies:\",counts)"
   ]
  },
  {
   "cell_type": "markdown",
   "metadata": {},
   "source": [
    "The following function plots an image and the corresponding label, to be used to inspect the data when needed."
   ]
  },
  {
   "cell_type": "code",
   "execution_count": 19,
   "metadata": {},
   "outputs": [],
   "source": [
    "#function for plotting a image and printing the corresponding label\n",
    "def plot_input(X_matrix, labels, index):\n",
    "    print(\"INPUT:\")\n",
    "    plt.imshow(\n",
    "        X_matrix[index].reshape(28,28),\n",
    "        cmap          = plt.cm.gray_r,\n",
    "        interpolation = \"nearest\"\n",
    "    )\n",
    "    plt.show()\n",
    "    print(\"LABEL: %i\"%labels[index])\n",
    "    return"
   ]
  },
  {
   "cell_type": "markdown",
   "metadata": {},
   "source": [
    "Now let's test the function above and check few images."
   ]
  },
  {
   "cell_type": "code",
   "execution_count": 20,
   "metadata": {},
   "outputs": [
    {
     "name": "stdout",
     "output_type": "stream",
     "text": [
      "INPUT:\n"
     ]
    },
    {
     "data": {
      "image/png": "[encoded data removed]",
      "text/plain": [
       "<Figure size 432x288 with 1 Axes>"
      ]
     },
     "metadata": {
      "needs_background": "light"
     },
     "output_type": "display_data"
    },
    {
     "name": "stdout",
     "output_type": "stream",
     "text": [
      "LABEL: 7\n",
      "INPUT:\n"
     ]
    },
    {
     "data": {
      "image/png": "[encoded data removed]",
      "text/plain": [
       "<Figure size 432x288 with 1 Axes>"
      ]
     },
     "metadata": {
      "needs_background": "light"
     },
     "output_type": "display_data"
    },
    {
     "name": "stdout",
     "output_type": "stream",
     "text": [
      "LABEL: 5\n",
      "INPUT:\n"
     ]
    },
    {
     "data": {
      "image/png": "[encoded data removed]",
      "text/plain": [
       "<Figure size 432x288 with 1 Axes>"
      ]
     },
     "metadata": {
      "needs_background": "light"
     },
     "output_type": "display_data"
    },
    {
     "name": "stdout",
     "output_type": "stream",
     "text": [
      "LABEL: 5\n"
     ]
    }
   ],
   "source": [
    "#let's try the plotting function\n",
    "plot_input(X_train,y_train,10)\n",
    "plot_input(X_test,y_test,50)\n",
    "plot_input(X_test,y_test,300)"
   ]
  },
  {
   "cell_type": "markdown",
   "metadata": {},
   "source": [
    "## TO DO 1\n",
    "\n",
    "Now use a (feed-forward) Neural Network for prediction. Use the multi-layer perceptron (MLP) classifier MLPClassifier(...) in scikit-learn, with the following parameters: max_iter=300, alpha=1e-4, solver='sgd', tol=1e-4, learning_rate_init=.1, random_state=ID (this last parameter ensures the run is the same even if you run it more than once). The alpha parameter is the regularization parameter for L2 regularization that is used by the MLP in sklearn.\n",
    "\n",
    "Then, using the default activation function, pick four or five architectures to consider, with different numbers of hidden layers and different sizes. It is not necessary to create huge neural networks, you can limit to 3 layers and, for each layer, its maximum size can be of 100. You can evaluate the architectures you chose using the GridSearchCV with a 5-fold cross-validation, and use the results to pick the best architecture. The code below provides some architectures you can use, but you can choose other ones if you prefer.\n"
   ]
  },
  {
   "cell_type": "code",
   "execution_count": 8,
   "metadata": {},
   "outputs": [
    {
     "name": "stdout",
     "output_type": "stream",
     "text": [
      "RESULTS FOR NN\n",
      "\n",
      "Best parameters set found:\n",
      "{'hidden_layer_sizes': (100,)}\n",
      "Score with best parameters:\n",
      "0.694\n",
      "\n",
      "All scores on the grid:\n"
     ]
    },
    {
     "data": {
      "text/html": [
       "<div>\n",
       "<style scoped>\n",
       "    .dataframe tbody tr th:only-of-type {\n",
       "        vertical-align: middle;\n",
       "    }\n",
       "\n",
       "    .dataframe tbody tr th {\n",
       "        vertical-align: top;\n",
       "    }\n",
       "\n",
       "    .dataframe thead th {\n",
       "        text-align: right;\n",
       "    }\n",
       "</style>\n",
       "<table border=\"1\" class=\"dataframe\">\n",
       "  <thead>\n",
       "    <tr style=\"text-align: right;\">\n",
       "      <th></th>\n",
       "      <th>architecture</th>\n",
       "      <th>score</th>\n",
       "      <th>std</th>\n",
       "    </tr>\n",
       "  </thead>\n",
       "  <tbody>\n",
       "    <tr>\n",
       "      <th>0</th>\n",
       "      <td>{'hidden_layer_sizes': (10,)}</td>\n",
       "      <td>0.452</td>\n",
       "      <td>0.198382</td>\n",
       "    </tr>\n",
       "    <tr>\n",
       "      <th>1</th>\n",
       "      <td>{'hidden_layer_sizes': (50,)}</td>\n",
       "      <td>0.630</td>\n",
       "      <td>0.190198</td>\n",
       "    </tr>\n",
       "    <tr>\n",
       "      <th>2</th>\n",
       "      <td>{'hidden_layer_sizes': (75,)}</td>\n",
       "      <td>0.652</td>\n",
       "      <td>0.141495</td>\n",
       "    </tr>\n",
       "    <tr>\n",
       "      <th>3</th>\n",
       "      <td>{'hidden_layer_sizes': (100,)}</td>\n",
       "      <td>0.694</td>\n",
       "      <td>0.104061</td>\n",
       "    </tr>\n",
       "    <tr>\n",
       "      <th>4</th>\n",
       "      <td>{'hidden_layer_sizes': (10, 10)}</td>\n",
       "      <td>0.438</td>\n",
       "      <td>0.184111</td>\n",
       "    </tr>\n",
       "    <tr>\n",
       "      <th>5</th>\n",
       "      <td>{'hidden_layer_sizes': (50, 50)}</td>\n",
       "      <td>0.528</td>\n",
       "      <td>0.255742</td>\n",
       "    </tr>\n",
       "  </tbody>\n",
       "</table>\n",
       "</div>"
      ],
      "text/plain": [
       "                       architecture  score       std\n",
       "0     {'hidden_layer_sizes': (10,)}  0.452  0.198382\n",
       "1     {'hidden_layer_sizes': (50,)}  0.630  0.190198\n",
       "2     {'hidden_layer_sizes': (75,)}  0.652  0.141495\n",
       "3    {'hidden_layer_sizes': (100,)}  0.694  0.104061\n",
       "4  {'hidden_layer_sizes': (10, 10)}  0.438  0.184111\n",
       "5  {'hidden_layer_sizes': (50, 50)}  0.528  0.255742"
      ]
     },
     "metadata": {},
     "output_type": "display_data"
    }
   ],
   "source": [
    "#MLPclassifier requires in input the parameter hidden_layer_sizes, that is a tuple specifying the number of \n",
    "#neurons in the hidden layers; for example: (10,) means that there is only 1 hidden layer with 10 neurons; \n",
    "#(10,50) means that there are 2 hidden layers, the first with 10 neurons, the second with 50 neurons\n",
    "\n",
    "#these are examples of possible architectures you can test, but feel free to use different architectures! \n",
    "hl_parameters = {'hidden_layer_sizes': [(10,), (50,), (75,), (100,), (10,10,), (50,50,)]}\n",
    "\n",
    "neural_net = MLPClassifier(max_iter=300, alpha=1e-4, solver='sgd', tol=1e-4, learning_rate_init=.1, random_state=ID)\n",
    "\n",
    "clf = GridSearchCV(neural_net, hl_parameters, cv=5)\n",
    "clf.fit(X_train,y_train)\n",
    "    \n",
    "print ('RESULTS FOR NN\\n')\n",
    "\n",
    "print(\"Best parameters set found:\")\n",
    "print(clf.best_params_)\n",
    "\n",
    "print(\"Score with best parameters:\")\n",
    "print(clf.best_score_)\n",
    "\n",
    "print(\"\\nAll scores on the grid:\")\n",
    "means = clf.cv_results_['mean_test_score']\n",
    "stds = clf.cv_results_['std_test_score']\n",
    "d = {'architecture': clf.cv_results_['params'], 'score': means,'std':stds}\n",
    "results = pd.DataFrame(data=d)\n",
    "display(results)"
   ]
  },
  {
   "cell_type": "markdown",
   "metadata": {},
   "source": [
    "## TO DO 2\n",
    "\n",
    "What do you observe for different architectures and their scores? How do the number of layers and their sizes affect the performances?"
   ]
  },
  {
   "cell_type": "markdown",
   "metadata": {},
   "source": [
    "Increasing the complexity of the model choosing a constantly growing number of neurons in a single layer seems to significantly improve the performance, at least as long as the point of overfitting is reached and the score decreases considerably.<br>\n",
    "With the addition of another layer with the same amount of neurons as the original, the performance worsens significantly, this result may be due to an increase in the complexity of the model leading to overfitting and resulting in worse scores overall."
   ]
  },
  {
   "cell_type": "markdown",
   "metadata": {},
   "source": [
    "## TO DO 3\n",
    "\n",
    "Now get training and test error (according to the initial split) for a NN with best parameters chosen from the cross-validation above (and learning the NN weights from the entire training set). Use verbose=True\n",
    "in input so to see how loss changes in iterations. (Note that the loss used by the MLPclassifier may be different from the 0-1 loss, also called *accuracy*.)"
   ]
  },
  {
   "cell_type": "code",
   "execution_count": 9,
   "metadata": {},
   "outputs": [
    {
     "name": "stdout",
     "output_type": "stream",
     "text": [
      "Iteration 1, loss = 2.29088048\n",
      "Iteration 2, loss = 1.39213092\n",
      "Iteration 3, loss = 1.29091348\n",
      "Iteration 4, loss = 0.97344097\n",
      "Iteration 5, loss = 0.70554331\n",
      "Iteration 6, loss = 0.63315836\n",
      "Iteration 7, loss = 0.70037829\n",
      "Iteration 8, loss = 0.56088507\n",
      "Iteration 9, loss = 0.48840894\n",
      "Iteration 10, loss = 0.47509350\n",
      "Iteration 11, loss = 0.39211883\n",
      "Iteration 12, loss = 0.38161143\n",
      "Iteration 13, loss = 0.36562898\n",
      "Iteration 14, loss = 0.32396200\n",
      "Iteration 15, loss = 0.33000822\n",
      "Iteration 16, loss = 0.33536171\n",
      "Iteration 17, loss = 0.25327036\n",
      "Iteration 18, loss = 0.30645125\n",
      "Iteration 19, loss = 0.23995626\n",
      "Iteration 20, loss = 0.21698164\n",
      "Iteration 21, loss = 0.21145272\n",
      "Iteration 22, loss = 0.25271476\n",
      "Iteration 23, loss = 0.19402252\n",
      "Iteration 24, loss = 0.17043932\n",
      "Iteration 25, loss = 0.15630977\n",
      "Iteration 26, loss = 0.17894865\n",
      "Iteration 27, loss = 0.17803952\n",
      "Iteration 28, loss = 0.12506976\n",
      "Iteration 29, loss = 0.14123583\n",
      "Iteration 30, loss = 0.18394049\n",
      "Iteration 31, loss = 0.09554194\n",
      "Iteration 32, loss = 0.10107649\n",
      "Iteration 33, loss = 0.08334769\n",
      "Iteration 34, loss = 0.08244290\n",
      "Iteration 35, loss = 0.08128025\n",
      "Iteration 36, loss = 0.10189152\n",
      "Iteration 37, loss = 0.10992889\n",
      "Iteration 38, loss = 0.05928326\n",
      "Iteration 39, loss = 0.05365371\n",
      "Iteration 40, loss = 0.05023387\n",
      "Iteration 41, loss = 0.06117096\n",
      "Iteration 42, loss = 0.05032270\n",
      "Iteration 43, loss = 0.03870772\n",
      "Iteration 44, loss = 0.03867018\n",
      "Iteration 45, loss = 0.03731680\n",
      "Iteration 46, loss = 0.03371903\n",
      "Iteration 47, loss = 0.03402175\n",
      "Iteration 48, loss = 0.03139688\n",
      "Iteration 49, loss = 0.03122676\n",
      "Iteration 50, loss = 0.02791738\n",
      "Iteration 51, loss = 0.02516968\n",
      "Iteration 52, loss = 0.02383528\n",
      "Iteration 53, loss = 0.02864196\n",
      "Iteration 54, loss = 0.02205080\n",
      "Iteration 55, loss = 0.02074474\n",
      "Iteration 56, loss = 0.02047983\n",
      "Iteration 57, loss = 0.01809100\n",
      "Iteration 58, loss = 0.01737825\n",
      "Iteration 59, loss = 0.01688643\n",
      "Iteration 60, loss = 0.01667916\n",
      "Iteration 61, loss = 0.01650290\n",
      "Iteration 62, loss = 0.01564958\n",
      "Iteration 63, loss = 0.01499031\n",
      "Iteration 64, loss = 0.01419108\n",
      "Iteration 65, loss = 0.01365988\n",
      "Iteration 66, loss = 0.01351586\n",
      "Iteration 67, loss = 0.01284469\n",
      "Iteration 68, loss = 0.01265401\n",
      "Iteration 69, loss = 0.01198135\n",
      "Iteration 70, loss = 0.01191051\n",
      "Iteration 71, loss = 0.01149058\n",
      "Iteration 72, loss = 0.01115589\n",
      "Iteration 73, loss = 0.01094845\n",
      "Iteration 74, loss = 0.01061470\n",
      "Iteration 75, loss = 0.01057298\n",
      "Iteration 76, loss = 0.01043520\n",
      "Iteration 77, loss = 0.01000998\n",
      "Iteration 78, loss = 0.00960589\n",
      "Iteration 79, loss = 0.00943494\n",
      "Iteration 80, loss = 0.00916618\n",
      "Iteration 81, loss = 0.00888336\n",
      "Iteration 82, loss = 0.00874788\n",
      "Iteration 83, loss = 0.00859191\n",
      "Iteration 84, loss = 0.00838778\n",
      "Iteration 85, loss = 0.00820900\n",
      "Iteration 86, loss = 0.00831296\n",
      "Iteration 87, loss = 0.00802977\n",
      "Iteration 88, loss = 0.00776090\n",
      "Iteration 89, loss = 0.00788418\n",
      "Iteration 90, loss = 0.00757502\n",
      "Iteration 91, loss = 0.00753617\n",
      "Iteration 92, loss = 0.00730159\n",
      "Iteration 93, loss = 0.00709994\n",
      "Iteration 94, loss = 0.00698489\n",
      "Iteration 95, loss = 0.00689468\n",
      "Iteration 96, loss = 0.00672202\n",
      "Iteration 97, loss = 0.00666571\n",
      "Iteration 98, loss = 0.00651819\n",
      "Iteration 99, loss = 0.00643946\n",
      "Iteration 100, loss = 0.00630250\n",
      "Iteration 101, loss = 0.00621250\n",
      "Iteration 102, loss = 0.00615364\n",
      "Iteration 103, loss = 0.00606553\n",
      "Training loss did not improve more than tol=0.000100 for two consecutive epochs. Stopping.\n",
      "\n",
      "RESULTS FOR BEST NN\n",
      "\n",
      "Best NN training error: 0.000000\n",
      "Best NN test error: 0.208571\n"
     ]
    }
   ],
   "source": [
    "#get training and test error for the best NN model from CV\n",
    "\n",
    "neural_net = MLPClassifier(hidden_layer_sizes=(100,),verbose=True,max_iter=300, alpha=1e-4, solver='sgd', tol=1e-4, learning_rate_init=.1, random_state=ID)\n",
    "neural_net.fit(X_train,y_train)\n",
    "\n",
    "training_error = 1 - neural_net.score(X_train,y_train)\n",
    "\n",
    "test_error = 1 - neural_net.score(X_test,y_test)\n",
    "\n",
    "print ('\\nRESULTS FOR BEST NN\\n')\n",
    "\n",
    "print (\"Best NN training error: %f\" % training_error)\n",
    "print (\"Best NN test error: %f\" % test_error)"
   ]
  },
  {
   "cell_type": "markdown",
   "metadata": {},
   "source": [
    "## More data \n",
    "Now let's do the same but using 10000 (or less if it takes too long on your machine) data points for training. Use the same NN architectures as before, but you can try more if you want!"
   ]
  },
  {
   "cell_type": "code",
   "execution_count": 21,
   "metadata": {},
   "outputs": [
    {
     "name": "stdout",
     "output_type": "stream",
     "text": [
      "Labels and frequencies in training dataset: \n"
     ]
    },
    {
     "data": {
      "text/plain": [
       "(array([0, 1, 2, 3, 4, 5, 6, 7, 8, 9], dtype=uint8),\n",
       " array([1004,  987,  968, 1019, 1009, 1015,  989, 1006,  958, 1045]))"
      ]
     },
     "execution_count": 21,
     "metadata": {},
     "output_type": "execute_result"
    }
   ],
   "source": [
    "X = X[permutation]\n",
    "y = y[permutation]\n",
    "\n",
    "m_training = 10000\n",
    "\n",
    "X_train, X_test = X[:m_training], X[m_training:]\n",
    "y_train, y_test = y[:m_training], y[m_training:]\n",
    "\n",
    "print(\"Labels and frequencies in training dataset: \")\n",
    "np.unique(y_train, return_counts=True)"
   ]
  },
  {
   "cell_type": "markdown",
   "metadata": {},
   "source": [
    "## TO DO 4\n",
    "\n",
    "Now train the NNs with the added data points. Feel free to try more different architectures than before if you want, or less if it takes too much time. You can use 'verbose=True' so have an idea of how long it takes to run 1 iteration (eventually reduce also the number of iterations to 50)."
   ]
  },
  {
   "cell_type": "code",
   "execution_count": 11,
   "metadata": {},
   "outputs": [
    {
     "name": "stdout",
     "output_type": "stream",
     "text": [
      "RESULTS FOR NN\n",
      "\n",
      "Best parameters set found:\n",
      "{'hidden_layer_sizes': (100, 100)}\n",
      "Score with best parameters:\n",
      "0.8232\n",
      "\n",
      "All scores on the grid:\n"
     ]
    },
    {
     "data": {
      "text/html": [
       "<div>\n",
       "<style scoped>\n",
       "    .dataframe tbody tr th:only-of-type {\n",
       "        vertical-align: middle;\n",
       "    }\n",
       "\n",
       "    .dataframe tbody tr th {\n",
       "        vertical-align: top;\n",
       "    }\n",
       "\n",
       "    .dataframe thead th {\n",
       "        text-align: right;\n",
       "    }\n",
       "</style>\n",
       "<table border=\"1\" class=\"dataframe\">\n",
       "  <thead>\n",
       "    <tr style=\"text-align: right;\">\n",
       "      <th></th>\n",
       "      <th>architecture</th>\n",
       "      <th>score</th>\n",
       "      <th>std</th>\n",
       "    </tr>\n",
       "  </thead>\n",
       "  <tbody>\n",
       "    <tr>\n",
       "      <th>0</th>\n",
       "      <td>{'hidden_layer_sizes': (10,)}</td>\n",
       "      <td>0.5966</td>\n",
       "      <td>0.275726</td>\n",
       "    </tr>\n",
       "    <tr>\n",
       "      <th>1</th>\n",
       "      <td>{'hidden_layer_sizes': (50,)}</td>\n",
       "      <td>0.7303</td>\n",
       "      <td>0.140511</td>\n",
       "    </tr>\n",
       "    <tr>\n",
       "      <th>2</th>\n",
       "      <td>{'hidden_layer_sizes': (100,)}</td>\n",
       "      <td>0.8048</td>\n",
       "      <td>0.051558</td>\n",
       "    </tr>\n",
       "    <tr>\n",
       "      <th>3</th>\n",
       "      <td>{'hidden_layer_sizes': (10, 10)}</td>\n",
       "      <td>0.6212</td>\n",
       "      <td>0.224610</td>\n",
       "    </tr>\n",
       "    <tr>\n",
       "      <th>4</th>\n",
       "      <td>{'hidden_layer_sizes': (50, 50)}</td>\n",
       "      <td>0.8211</td>\n",
       "      <td>0.043631</td>\n",
       "    </tr>\n",
       "    <tr>\n",
       "      <th>5</th>\n",
       "      <td>{'hidden_layer_sizes': (100, 100)}</td>\n",
       "      <td>0.8232</td>\n",
       "      <td>0.047116</td>\n",
       "    </tr>\n",
       "    <tr>\n",
       "      <th>6</th>\n",
       "      <td>{'hidden_layer_sizes': (50, 50, 50)}</td>\n",
       "      <td>0.6770</td>\n",
       "      <td>0.289743</td>\n",
       "    </tr>\n",
       "  </tbody>\n",
       "</table>\n",
       "</div>"
      ],
      "text/plain": [
       "                           architecture   score       std\n",
       "0         {'hidden_layer_sizes': (10,)}  0.5966  0.275726\n",
       "1         {'hidden_layer_sizes': (50,)}  0.7303  0.140511\n",
       "2        {'hidden_layer_sizes': (100,)}  0.8048  0.051558\n",
       "3      {'hidden_layer_sizes': (10, 10)}  0.6212  0.224610\n",
       "4      {'hidden_layer_sizes': (50, 50)}  0.8211  0.043631\n",
       "5    {'hidden_layer_sizes': (100, 100)}  0.8232  0.047116\n",
       "6  {'hidden_layer_sizes': (50, 50, 50)}  0.6770  0.289743"
      ]
     },
     "metadata": {},
     "output_type": "display_data"
    }
   ],
   "source": [
    "#for NN we try the same architectures as before\n",
    "hl_parameters = {'hidden_layer_sizes': [(10,), (50,), (100,), (10,10,), (50,50,), (100,100,), (50,50,50,)]}\n",
    "\n",
    "neural_net_larger = MLPClassifier(max_iter=300, alpha=1e-4, solver='sgd', tol=1e-4, learning_rate_init=.1, random_state=ID)\n",
    "\n",
    "clf = GridSearchCV(neural_net_larger, hl_parameters, cv=5)\n",
    "clf.fit(X_train,y_train)\n",
    "\n",
    "print ('RESULTS FOR NN\\n')\n",
    "\n",
    "print(\"Best parameters set found:\")\n",
    "print(clf.best_params_)\n",
    "\n",
    "print(\"Score with best parameters:\")\n",
    "print(clf.best_score_)\n",
    "\n",
    "print(\"\\nAll scores on the grid:\")\n",
    "means = clf.cv_results_['mean_test_score']\n",
    "stds = clf.cv_results_['std_test_score']\n",
    "d = {'architecture': clf.cv_results_['params'], 'score': means,'std':stds}\n",
    "results = pd.DataFrame(data=d)\n",
    "display(results)"
   ]
  },
  {
   "cell_type": "markdown",
   "metadata": {},
   "source": [
    "## TO DO 5\n",
    "Describe your architecture choices and the results you observe with respect to the architectures you used.\n",
    "\n",
    "The overall results are clearly better than the training done with only 500 samples, in this case the best result is obtained by adding a layer to the best architecture used for 500 examples. In fact, managing a large number of samples, may be preferable to use a greater number of layers, to the detriment of the greater complexity of the model. By further increasing the number of layers, the result gets worse, probably due to overfitting."
   ]
  },
  {
   "cell_type": "markdown",
   "metadata": {},
   "source": [
    "## TO DO 6\n",
    "\n",
    "Get the train and test error for the best NN you obtained with 10000 points. This time you can run for 100 iterations if you cannot run for 300 iterations. \n"
   ]
  },
  {
   "cell_type": "code",
   "execution_count": 12,
   "metadata": {},
   "outputs": [
    {
     "name": "stdout",
     "output_type": "stream",
     "text": [
      "Iteration 1, loss = 0.91413695\n",
      "Iteration 2, loss = 0.51096778\n",
      "Iteration 3, loss = 0.43737165\n",
      "Iteration 4, loss = 0.40312828\n",
      "Iteration 5, loss = 0.37117121\n",
      "Iteration 6, loss = 0.34109057\n",
      "Iteration 7, loss = 0.31616043\n",
      "Iteration 8, loss = 0.30849438\n",
      "Iteration 9, loss = 0.29402065\n",
      "Iteration 10, loss = 0.28018005\n",
      "Iteration 11, loss = 0.26646317\n",
      "Iteration 12, loss = 0.25841739\n",
      "Iteration 13, loss = 0.23786771\n",
      "Iteration 14, loss = 0.23583972\n",
      "Iteration 15, loss = 0.22508297\n",
      "Iteration 16, loss = 0.20850698\n",
      "Iteration 17, loss = 0.20978433\n",
      "Iteration 18, loss = 0.19924619\n",
      "Iteration 19, loss = 0.18684963\n",
      "Iteration 20, loss = 0.18309877\n",
      "Iteration 21, loss = 0.18225026\n",
      "Iteration 22, loss = 0.17164257\n",
      "Iteration 23, loss = 0.16396984\n",
      "Iteration 24, loss = 0.15546010\n",
      "Iteration 25, loss = 0.14800568\n",
      "Iteration 26, loss = 0.16416383\n",
      "Iteration 27, loss = 0.15579473\n",
      "Iteration 28, loss = 0.13177856\n",
      "Iteration 29, loss = 0.14112696\n",
      "Iteration 30, loss = 0.13192906\n",
      "Iteration 31, loss = 0.13150722\n",
      "Iteration 32, loss = 0.12457052\n",
      "Iteration 33, loss = 0.12291890\n",
      "Iteration 34, loss = 0.10970246\n",
      "Iteration 35, loss = 0.13044635\n",
      "Iteration 36, loss = 0.12194614\n",
      "Iteration 37, loss = 0.10061799\n",
      "Iteration 38, loss = 0.09992665\n",
      "Iteration 39, loss = 0.09609638\n",
      "Iteration 40, loss = 0.09979787\n",
      "Iteration 41, loss = 0.09259001\n",
      "Iteration 42, loss = 0.08995968\n",
      "Iteration 43, loss = 0.08196228\n",
      "Iteration 44, loss = 0.07416553\n",
      "Iteration 45, loss = 0.08139739\n",
      "Iteration 46, loss = 0.08235322\n",
      "Iteration 47, loss = 0.07878197\n",
      "Training loss did not improve more than tol=0.000100 for two consecutive epochs. Stopping.\n",
      "RESULTS FOR BEST NN\n",
      "\n",
      "Best NN training error: 0.024400\n",
      "Best NN test error: 0.141000\n"
     ]
    }
   ],
   "source": [
    "#get training and test error for the best NN model from CV\n",
    "\n",
    "neural_net_larger = MLPClassifier(hidden_layer_sizes=(100,100,),verbose=True,max_iter=300, alpha=1e-4, solver='sgd', tol=1e-4, learning_rate_init=.1,random_state=ID)\n",
    "neural_net_larger.fit(X_train,y_train)\n",
    "\n",
    "training_error = 1 - neural_net_larger.score(X_train,y_train)\n",
    "\n",
    "test_error = 1 - neural_net_larger.score(X_test,y_test)\n",
    "\n",
    "print ('RESULTS FOR BEST NN\\n')\n",
    "\n",
    "print (\"Best NN training error: %f\" % training_error)\n",
    "print (\"Best NN test error: %f\" % test_error)"
   ]
  },
  {
   "cell_type": "markdown",
   "metadata": {},
   "source": [
    "## TO DO 7\n",
    "\n",
    "Compare the train and test error you got with a large number of samples with the best one you obtained with only 500 data points. Are the architectures the same or do they differ? What about the errors you get?"
   ]
  },
  {
   "cell_type": "markdown",
   "metadata": {},
   "source": [
    "The architectures are different only for the number of layers: a layer for the architecture used with 500 samples and two layers for the one with a larger number of samples, both with 100 neurons. With a larger number of samples, the training error increases, while the test error gets lower. This can be explained considering that with a bigger samples size the chance of overfitting is smaller, therefore the model's predictions are more reliable, in fact the test error improve, even though the training error gets worse."
   ]
  },
  {
   "cell_type": "markdown",
   "metadata": {},
   "source": [
    "## TO DO 8\n",
    "\n",
    "Plot a digit that was missclassified by NN with m=500 training data points and it is now instead correctly classified by NN with m=10000 training data points."
   ]
  },
  {
   "cell_type": "code",
   "execution_count": 13,
   "metadata": {},
   "outputs": [
    {
     "name": "stdout",
     "output_type": "stream",
     "text": [
      "The clothing found is: 4\n",
      "\n",
      "INPUT:\n"
     ]
    },
    {
     "data": {
      "image/png": "[encoded data removed]",
      "text/plain": [
       "<Figure size 432x288 with 1 Axes>"
      ]
     },
     "metadata": {
      "needs_background": "light"
     },
     "output_type": "display_data"
    },
    {
     "name": "stdout",
     "output_type": "stream",
     "text": [
      "LABEL: 4\n",
      "\n",
      "The label predicted by NN with m=500 is: 2\n",
      "The label predicted by NN with m=10000 is: 4\n"
     ]
    }
   ],
   "source": [
    "digit_found = False\n",
    "predict_nn = neural_net.predict(X_test)\n",
    "predict_larger_nn = neural_net_larger.predict(X_test)\n",
    "for m in range(y_test.shape[0]):\n",
    "    if(predict_nn[m] != y_test[m] and predict_larger_nn[m]==y_test[m]):\n",
    "        if(digit_found==False):\n",
    "            print(\"The clothing found is:%2i\\n\" %y_test[m])\n",
    "            plot_input(X_test,y_test,m)\n",
    "            print(\"\\nThe label predicted by NN with m=500 is:%2i\" %(predict_nn[m]))\n",
    "            print(\"The label predicted by NN with m=10000 is:%2i\" %(predict_larger_nn[m]))\n",
    "            digit_found = True"
   ]
  },
  {
   "cell_type": "markdown",
   "metadata": {},
   "source": [
    "Let's plot some of the weigths of the multi-layer perceptron classifier, for the best NN we get with 500 data points and with 50000 data points. The code below plots the weights in a matrix form, where a figure represents all the weights of the edges entering in a hidden node. Notice that the code assumes that the NNs are called \"mlp\" and \"best_mlp_large\": you may need to replace such variables with your variable names. \n",
    "\n"
   ]
  },
  {
   "cell_type": "code",
   "execution_count": 15,
   "metadata": {},
   "outputs": [
    {
     "name": "stdout",
     "output_type": "stream",
     "text": [
      "Weights with 500 data points:\n"
     ]
    },
    {
     "data": {
      "image/png": "[encoded data removed]",
      "text/plain": [
       "<Figure size 432x288 with 16 Axes>"
      ]
     },
     "metadata": {},
     "output_type": "display_data"
    },
    {
     "name": "stdout",
     "output_type": "stream",
     "text": [
      "Weights with 10000 data points:\n"
     ]
    },
    {
     "data": {
      "image/png": "[encoded data removed]",
      "text/plain": [
       "<Figure size 432x288 with 16 Axes>"
      ]
     },
     "metadata": {},
     "output_type": "display_data"
    }
   ],
   "source": [
    "print(\"Weights with 500 data points:\")\n",
    "\n",
    "fig, axes = plt.subplots(4, 4)\n",
    "vmin, vmax = neural_net.coefs_[0].min(), neural_net.coefs_[0].max()\n",
    "for coef, ax in zip(neural_net.coefs_[0].T, axes.ravel()):\n",
    "    ax.matshow(coef.reshape(28, 28), cmap=plt.cm.gray, vmin=.5 * vmin, vmax=.5 * vmax)\n",
    "    ax.set_xticks(())\n",
    "    ax.set_yticks(())\n",
    "\n",
    "plt.show()\n",
    "\n",
    "print(\"Weights with 10000 data points:\")\n",
    "\n",
    "fig, axes = plt.subplots(4, 4)\n",
    "vmin, vmax = neural_net_larger.coefs_[0].min(), neural_net_larger.coefs_[0].max()\n",
    "for coef, ax in zip(neural_net_larger.coefs_[0].T, axes.ravel()):\n",
    "    ax.matshow(coef.reshape(28, 28), cmap=plt.cm.gray, vmin=.5 * vmin, vmax=.5 * vmax)\n",
    "    ax.set_xticks(())\n",
    "    ax.set_yticks(())\n",
    "plt.show()"
   ]
  },
  {
   "cell_type": "markdown",
   "metadata": {},
   "source": [
    "## TO DO 9\n",
    "\n",
    "Describe what do you observe by looking at the weights.\n",
    "\n",
    "Looking at the weights it is clear that with a larger sample size the weights are less influenced by noise, which makes them more relevant to make accurate predictions."
   ]
  },
  {
   "cell_type": "markdown",
   "metadata": {},
   "source": [
    "## TO DO 10\n",
    "\n",
    "Pick another classifier among the ones we have seen previously (SVM or something else). Report the training and test error for such classifier with 10000 samples in the training set, if possible; if the classifier cannot run with so many data sample reduce the number of samples.\n",
    "\n",
    "*Note*: if there are parameters to be optimized use cross-validation. If you choose SVM, you can decide if you want to use a single kernel or use the best among many; in the latter case, you need to pick the best kernel using cross-validation (using the functions available in sklearn).\n",
    "\n",
    "**[WRITE HERE WHAT CLASSIFIER YOU ARE CHOOSING AND WHAT PARAMETERS YOU NEED TO SET.]**\n",
    "\n",
    "I chose a SVM classifier with rbf kernel and parameters to set: C from {1,10,100} and gamma from {0.01,0.1,1}."
   ]
  },
  {
   "cell_type": "code",
   "execution_count": 16,
   "metadata": {},
   "outputs": [
    {
     "name": "stdout",
     "output_type": "stream",
     "text": [
      "\n",
      "RESULTS FOR rbf KERNEL\n",
      "\n",
      "Best parameters set found:\n",
      "{'C': 10, 'gamma': 0.01}\n",
      "Score with best parameters:\n",
      "0.8731\n",
      "\n",
      "All scores on the grid:\n"
     ]
    },
    {
     "data": {
      "text/html": [
       "<div>\n",
       "<style scoped>\n",
       "    .dataframe tbody tr th:only-of-type {\n",
       "        vertical-align: middle;\n",
       "    }\n",
       "\n",
       "    .dataframe tbody tr th {\n",
       "        vertical-align: top;\n",
       "    }\n",
       "\n",
       "    .dataframe thead th {\n",
       "        text-align: right;\n",
       "    }\n",
       "</style>\n",
       "<table border=\"1\" class=\"dataframe\">\n",
       "  <thead>\n",
       "    <tr style=\"text-align: right;\">\n",
       "      <th></th>\n",
       "      <th>architecture</th>\n",
       "      <th>score</th>\n",
       "      <th>std</th>\n",
       "    </tr>\n",
       "  </thead>\n",
       "  <tbody>\n",
       "    <tr>\n",
       "      <th>0</th>\n",
       "      <td>{'C': 1, 'gamma': 0.01}</td>\n",
       "      <td>0.8575</td>\n",
       "      <td>0.003894</td>\n",
       "    </tr>\n",
       "    <tr>\n",
       "      <th>1</th>\n",
       "      <td>{'C': 1, 'gamma': 0.1}</td>\n",
       "      <td>0.7995</td>\n",
       "      <td>0.006510</td>\n",
       "    </tr>\n",
       "    <tr>\n",
       "      <th>2</th>\n",
       "      <td>{'C': 1, 'gamma': 1.0}</td>\n",
       "      <td>0.1117</td>\n",
       "      <td>0.001289</td>\n",
       "    </tr>\n",
       "    <tr>\n",
       "      <th>3</th>\n",
       "      <td>{'C': 10, 'gamma': 0.01}</td>\n",
       "      <td>0.8731</td>\n",
       "      <td>0.006200</td>\n",
       "    </tr>\n",
       "    <tr>\n",
       "      <th>4</th>\n",
       "      <td>{'C': 10, 'gamma': 0.1}</td>\n",
       "      <td>0.8090</td>\n",
       "      <td>0.007129</td>\n",
       "    </tr>\n",
       "    <tr>\n",
       "      <th>5</th>\n",
       "      <td>{'C': 10, 'gamma': 1.0}</td>\n",
       "      <td>0.1198</td>\n",
       "      <td>0.001904</td>\n",
       "    </tr>\n",
       "    <tr>\n",
       "      <th>6</th>\n",
       "      <td>{'C': 100, 'gamma': 0.01}</td>\n",
       "      <td>0.8658</td>\n",
       "      <td>0.003864</td>\n",
       "    </tr>\n",
       "    <tr>\n",
       "      <th>7</th>\n",
       "      <td>{'C': 100, 'gamma': 0.1}</td>\n",
       "      <td>0.8090</td>\n",
       "      <td>0.007129</td>\n",
       "    </tr>\n",
       "    <tr>\n",
       "      <th>8</th>\n",
       "      <td>{'C': 100, 'gamma': 1.0}</td>\n",
       "      <td>0.1198</td>\n",
       "      <td>0.001904</td>\n",
       "    </tr>\n",
       "  </tbody>\n",
       "</table>\n",
       "</div>"
      ],
      "text/plain": [
       "                architecture   score       std\n",
       "0    {'C': 1, 'gamma': 0.01}  0.8575  0.003894\n",
       "1     {'C': 1, 'gamma': 0.1}  0.7995  0.006510\n",
       "2     {'C': 1, 'gamma': 1.0}  0.1117  0.001289\n",
       "3   {'C': 10, 'gamma': 0.01}  0.8731  0.006200\n",
       "4    {'C': 10, 'gamma': 0.1}  0.8090  0.007129\n",
       "5    {'C': 10, 'gamma': 1.0}  0.1198  0.001904\n",
       "6  {'C': 100, 'gamma': 0.01}  0.8658  0.003864\n",
       "7   {'C': 100, 'gamma': 0.1}  0.8090  0.007129\n",
       "8   {'C': 100, 'gamma': 1.0}  0.1198  0.001904"
      ]
     },
     "metadata": {},
     "output_type": "display_data"
    }
   ],
   "source": [
    "#import SVC\n",
    "from sklearn.svm import SVC\n",
    "\n",
    "# parameters for rbf SVM\n",
    "parameters = {'C': [1, 10, 100],'gamma':[0.01,0.1,1.]}\n",
    "\n",
    "#run SVM with rbf kernel\n",
    "rbf_SVM = SVC(kernel='rbf')\n",
    "# ADD CODE: DO THE SAME AS ABOVE FOR RBF KERNEL\n",
    "clf = GridSearchCV(rbf_SVM, parameters, cv=5)\n",
    "clf.fit(X_train,y_train)\n",
    "\n",
    "print ('\\nRESULTS FOR rbf KERNEL\\n')\n",
    "\n",
    "print(\"Best parameters set found:\")\n",
    "print(clf.best_params_)\n",
    "\n",
    "print(\"Score with best parameters:\")\n",
    "print(clf.best_score_)\n",
    "\n",
    "print(\"\\nAll scores on the grid:\")\n",
    "means = clf.cv_results_['mean_test_score']\n",
    "stds = clf.cv_results_['std_test_score']\n",
    "d = {'architecture': clf.cv_results_['params'], 'score': means,'std':stds}\n",
    "results = pd.DataFrame(data=d)\n",
    "display(results)"
   ]
  },
  {
   "cell_type": "markdown",
   "metadata": {},
   "source": [
    "From the results found the best model is rbf kernel with C=10 and gamma=0.01"
   ]
  },
  {
   "cell_type": "code",
   "execution_count": 18,
   "metadata": {},
   "outputs": [
    {
     "name": "stdout",
     "output_type": "stream",
     "text": [
      "RESULTS FOR OTHER CLASSIFIER\n",
      "\n",
      "Best NN training error: 0.014400\n",
      "Best NN test error: 0.121760\n"
     ]
    }
   ],
   "source": [
    "best_SVM = SVC(kernel='rbf',C=10,gamma=0.01)\n",
    "best_SVM.fit(X_train, y_train)\n",
    "\n",
    "training_error_other = 1. - best_SVM.score(X_train,y_train)\n",
    "\n",
    "test_error_other = 1. - best_SVM.score(X_test,y_test)\n",
    "\n",
    "print ('RESULTS FOR OTHER CLASSIFIER\\n')\n",
    "\n",
    "print (\"Best NN training error: %f\" % training_error_other)\n",
    "print (\"Best NN test error: %f\" % test_error_other)"
   ]
  },
  {
   "cell_type": "markdown",
   "metadata": {},
   "source": [
    "## TO DO 11\n",
    "Compare the results of NN and of the other classifier you have chosen above. Which classifier would you preferer? Provide a brief explanation."
   ]
  },
  {
   "cell_type": "markdown",
   "metadata": {},
   "source": [
    "The classifier which yields better results is the SVM with rbf kernel. This can be explained considering that using SVM with kernel rbf on non-linear patterns works better than a neural network with a small number of layers, because it maps non-linear data onto a higher-dimensional space where it becomes linearly seperable. The SVM classifier with kernel rbf obtains therefore better performances in terms of decrease of the training and test error (although not significant), to the detriment of the longer time used for the training (only to set the parameters it took two hours)."
   ]
  },
  {
   "cell_type": "markdown",
   "metadata": {},
   "source": [
    "# Clustering with K-means\n",
    "\n",
    "Clustering is a useful technique for *unsupervised* learning. We are now going to cluster 2000 images in the fashion MNIST dataset, and try to understand if the clusters we obtain correspond to the true labels."
   ]
  },
  {
   "cell_type": "code",
   "execution_count": 22,
   "metadata": {},
   "outputs": [],
   "source": [
    "#load the required packages\n",
    "\n",
    "from sklearn import metrics\n",
    "from sklearn.cluster import KMeans\n",
    "from sklearn.metrics.cluster import contingency_matrix\n",
    "from sklearn.metrics import silhouette_score"
   ]
  },
  {
   "cell_type": "markdown",
   "metadata": {},
   "source": [
    "(Note that the code below assumes that the data has already been transformed as in the NN part of the notebook, so make sure to run the code for the transformation even if you do not complete the part on NN.)"
   ]
  },
  {
   "cell_type": "code",
   "execution_count": 23,
   "metadata": {},
   "outputs": [
    {
     "name": "stdout",
     "output_type": "stream",
     "text": [
      "Labels in training dataset:  [0 1 2 3 4 5 6 7 8 9]\n",
      "Frequencies in training dataset:  [175 206 200 196 197 206 211 192 208 209]\n"
     ]
    }
   ],
   "source": [
    "#let's consider only 2000 data points\n",
    "\n",
    "X = X[permutation]\n",
    "y = y[permutation]\n",
    "\n",
    "m_training = 2000\n",
    "\n",
    "X_train, X_test = X[:m_training], X[m_training:]\n",
    "y_train, y_test = y[:m_training], y[m_training:]\n",
    "\n",
    "labels, freqs = np.unique(y_train, return_counts=True)\n",
    "print(\"Labels in training dataset: \", labels)\n",
    "print(\"Frequencies in training dataset: \", freqs)"
   ]
  },
  {
   "cell_type": "markdown",
   "metadata": {},
   "source": [
    "## TO DO 1\n",
    "Cluster the points using the KMeans() and fit() functions (see the userguide for details). For Kmeans, set: n_clusters=10 as number of clusters; n_init=10 as the number of times the algorithm will be run with different centroid seeds; random_state = ID. You can use the default setting for the other parameters."
   ]
  },
  {
   "cell_type": "code",
   "execution_count": 24,
   "metadata": {},
   "outputs": [],
   "source": [
    "kmeans = KMeans(n_clusters=10,n_init=10,random_state = ID).fit_predict(X_train)\n"
   ]
  },
  {
   "cell_type": "markdown",
   "metadata": {},
   "source": [
    "## Comparison of clusters with true labels"
   ]
  },
  {
   "cell_type": "markdown",
   "metadata": {},
   "source": [
    "## TO DO 2\n",
    "Now compare the clustered obtained with the true labels, using the function sklearn.metrics.cluster.contingency_matrix() (see the userguide for details). The function prints a matrix $A$ such that entry $A_{i,j}$ is is the number of samples in true class $i$ and in predicted class $j$."
   ]
  },
  {
   "cell_type": "code",
   "execution_count": 25,
   "metadata": {},
   "outputs": [
    {
     "name": "stdout",
     "output_type": "stream",
     "text": [
      "[[  0   0  46 107   0   0  10   5   7   0]\n",
      " [  0   0   8   6   0   0   2   2 188   0]\n",
      " [  0   2  31   5   0   0 107  55   0   0]\n",
      " [  0   0  36  67   0   0   2   8  83   0]\n",
      " [  0   1  11  22   0   0 103  56   4   0]\n",
      " [ 11   0  56   1  15 123   0   0   0   0]\n",
      " [  0   0  57  36   0   1  72  42   1   2]\n",
      " [  0   0   2   0  31 159   0   0   0   0]\n",
      " [  0  74  24   1   3  10   3   8   1  84]\n",
      " [106   0  11   0  88   3   0   1   0   0]]\n"
     ]
    }
   ],
   "source": [
    "# compute and print the contingency matrix for the true lavels vs the clustering assignments\n",
    "matrix = contingency_matrix(y_train,kmeans)\n",
    "print(matrix)"
   ]
  },
  {
   "cell_type": "markdown",
   "metadata": {},
   "source": [
    "## TO DO 3\n",
    "Based on the matrix shown above, comment on the results of clustering in terms of adherence to the true labels.\n",
    "\n",
    "For the clustering results to be considered successful, for each true class the number of samples to be on one predicted class, and vice versa. This does not generally happen in our data, in fact only a few instances describe this distribution, in general the samples of a true class are divided equally into at least two or more predicted classes . This may suggest that our data is not suitable for clustering and that prediction will not be efficient."
   ]
  },
  {
   "cell_type": "markdown",
   "metadata": {},
   "source": [
    "## Choice of k with silhoutte coefficient\n",
    "In many real applications it is unclear what is the correct value of $k$ to use. In practice one tries different values of $k$ and then uses some external score to choose a value of $k$. One such score is the silhoutte coefficient, that can be computed with metrics.silhouette_score(). See the definition of the silhoutte coefficient in the userguide."
   ]
  },
  {
   "cell_type": "markdown",
   "metadata": {},
   "source": [
    "## TO DO 4\n",
    "Compute the clustering for k=2,3,...,15 (other parameters as above) and print the silhoutte coefficient for each such clustering."
   ]
  },
  {
   "cell_type": "code",
   "execution_count": 26,
   "metadata": {},
   "outputs": [
    {
     "name": "stdout",
     "output_type": "stream",
     "text": [
      "Silhoutte coefficient for number of clusters=2: 0.18494311290543095\n",
      "Silhoutte coefficient for number of clusters=3: 0.17971189663187387\n",
      "Silhoutte coefficient for number of clusters=4: 0.18278698141388697\n",
      "Silhoutte coefficient for number of clusters=5: 0.16526109965885463\n",
      "Silhoutte coefficient for number of clusters=6: 0.15236793296913517\n",
      "Silhoutte coefficient for number of clusters=7: 0.16504474780812312\n",
      "Silhoutte coefficient for number of clusters=8: 0.1669620232364243\n",
      "Silhoutte coefficient for number of clusters=9: 0.16698969004023698\n",
      "Silhoutte coefficient for number of clusters=10: 0.15175015860737628\n",
      "Silhoutte coefficient for number of clusters=11: 0.1407868391756258\n",
      "Silhoutte coefficient for number of clusters=12: 0.13644996844553395\n",
      "Silhoutte coefficient for number of clusters=13: 0.13181297926040084\n",
      "Silhoutte coefficient for number of clusters=14: 0.12943335562008487\n",
      "Silhoutte coefficient for number of clusters=15: 0.1249576005521794\n"
     ]
    }
   ],
   "source": [
    "#run k-means with 10 choices of initial centroids for a range of values of n_clusters\n",
    "\n",
    "for i in range(2,16):\n",
    "    kmeans = KMeans(n_clusters=i,n_init=10,random_state = ID).fit(X_train)\n",
    "    silhouttescore = silhouette_score(X_train,kmeans.labels_)\n",
    "    print(\"Silhoutte coefficient for number of clusters=\"+str(i)+\": \"+str(silhouttescore))"
   ]
  },
  {
   "cell_type": "markdown",
   "metadata": {},
   "source": [
    "## TO DO 5\n",
    "\n",
    "Based on the silhoutte score, which $k$ would you pick? Motivate your choice. Does your choice match what you know about the data? If yes, explain why you think this is the case; if no, explain what you think may be the reason."
   ]
  },
  {
   "cell_type": "markdown",
   "metadata": {},
   "source": [
    "Based on the silhouette score, where the best score is 1, the value of k to be picked would be 2. This choice does not correspond to what we know of the data because in order to be able to divide the data in the respective labels we should have a number of clusters equal to 10. The reason may be that with two clusters the data are divided into two large parts that include two types of clothing very different from each other, for example a cluster for shoes and one for clothes."
   ]
  },
  {
   "cell_type": "code",
   "execution_count": null,
   "metadata": {},
   "outputs": [],
   "source": []
  }
 ],
 "metadata": {
  "kernelspec": {
   "display_name": "Python 3",
   "language": "python",
   "name": "python3"
  },
  "language_info": {
   "codemirror_mode": {
    "name": "ipython",
    "version": 3
   },
   "file_extension": ".py",
   "mimetype": "text/x-python",
   "name": "python",
   "nbconvert_exporter": "python",
   "pygments_lexer": "ipython3",
   "version": "3.7.0"
  }
 },
 "nbformat": 4,
 "nbformat_minor": 2
}
